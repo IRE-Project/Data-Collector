{
 "cells": [
  {
   "cell_type": "code",
   "execution_count": 22,
   "metadata": {},
   "outputs": [],
   "source": [
    "from tqdm.notebook import tqdm_notebook\n",
    "import pprint\n",
    "import json\n",
    "import re"
   ]
  },
  {
   "cell_type": "code",
   "execution_count": 23,
   "metadata": {},
   "outputs": [],
   "source": [
    "# save and load locations\n",
    "location_of_wiki_json = '../Data-Collector/data/Wikipedia/data.json'\n",
    "saving_location = './'"
   ]
  },
  {
   "cell_type": "code",
   "execution_count": 24,
   "metadata": {},
   "outputs": [],
   "source": [
    "with open(location_of_wiki_json,'r+') as f:\n",
    "    wiki_data = json.load(f)"
   ]
  },
  {
   "cell_type": "code",
   "execution_count": 25,
   "metadata": {},
   "outputs": [
    {
     "name": "stdout",
     "output_type": "stream",
     "text": [
      "31\n"
     ]
    }
   ],
   "source": [
    "print(len(wiki_data))"
   ]
  },
  {
   "cell_type": "code",
   "execution_count": 26,
   "metadata": {},
   "outputs": [
    {
     "data": {
      "application/vnd.jupyter.widget-view+json": {
       "model_id": "ef3e7543a045463c92bc3d5c5386ad8c",
       "version_major": 2,
       "version_minor": 0
      },
      "text/plain": [
       "  0%|          | 0/31 [00:00<?, ?it/s]"
      ]
     },
     "metadata": {},
     "output_type": "display_data"
    }
   ],
   "source": [
    "# store cleaned data\n",
    "cleaned = {}\n",
    "# nor required fields\n",
    "remove_list = [ \"name\",\"wikipedia page\",\"wikipedia page url\",\"traded as\",\"industry\",\"founded\",\\\n",
    "                \"founders\",\"headquarters\",\"key people\",\"members\",\"founder\",\"fleet size\",\"destinations\",\"secondary hubs\",\"hubs\",\n",
    "                \"commenced operations\"]\n",
    "# Feilds need to converted into list format\n",
    "list_list = [\"products\",\"subsidiaries\",\"secondary hubs\",\"hubs\",\"number of locations\",\"owner\",\"services\"]\n",
    "with tqdm_notebook(total=len(wiki_data)) as pbar:\n",
    "    for i in wiki_data:\n",
    "        temp_dict = {}\n",
    "        for j in wiki_data[i]:\n",
    "            if j not in remove_list:\n",
    "                if(j in list_list):\n",
    "                    val = list(filter(lambda x:len(x)>0,re.split(r\"[;,]\",wiki_data[i][j])))\n",
    "                    for k in range(len(val)):\n",
    "                        val[k] = val[k].strip()\n",
    "                    val = list(filter(lambda x:len(x)>0,val))\n",
    "                    temp_dict[j]=val\n",
    "                elif(j == \"website\"):\n",
    "                    val = wiki_data[i][j].split('.')\n",
    "                    if(len(val)>0):\n",
    "                        temp_dict[j]=wiki_data[i][j]\n",
    "                else:\n",
    "                    val = list(filter(lambda x:len(x)>0,re.split(r\"[;]\",wiki_data[i][j])))\n",
    "                    for k in range(len(val)):\n",
    "                        val[k] = val[k].strip()\n",
    "                    val = ' '.join(val)\n",
    "                    temp_dict[j]=val\n",
    "        cleaned[i]=temp_dict\n",
    "        pbar.update()"
   ]
  },
  {
   "cell_type": "code",
   "execution_count": 27,
   "metadata": {},
   "outputs": [],
   "source": [
    "with open(saving_location+\"wikidata_cleaned.json\",'w+') as f:\n",
    "    json.dump(cleaned,f,indent=4)"
   ]
  },
  {
   "cell_type": "code",
   "execution_count": null,
   "metadata": {},
   "outputs": [],
   "source": []
  }
 ],
 "metadata": {
  "interpreter": {
   "hash": "e7370f93d1d0cde622a1f8e1c04877d8463912d04d973331ad4851f04de6915a"
  },
  "kernelspec": {
   "display_name": "Python 3.9.7 64-bit",
   "language": "python",
   "name": "python3"
  },
  "language_info": {
   "codemirror_mode": {
    "name": "ipython",
    "version": 3
   },
   "file_extension": ".py",
   "mimetype": "text/x-python",
   "name": "python",
   "nbconvert_exporter": "python",
   "pygments_lexer": "ipython3",
   "version": "3.9.7"
  },
  "orig_nbformat": 4
 },
 "nbformat": 4,
 "nbformat_minor": 2
}
