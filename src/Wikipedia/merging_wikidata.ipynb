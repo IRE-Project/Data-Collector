{
 "cells": [
  {
   "cell_type": "markdown",
   "metadata": {},
   "source": [
    "># For data-Cleaning and error reduction"
   ]
  },
  {
   "cell_type": "code",
   "execution_count": null,
   "metadata": {},
   "outputs": [],
   "source": [
    "from tqdm.notebook import tqdm_notebook\n",
    "from fuzzywuzzy import fuzz\n",
    "import json\n",
    "import os"
   ]
  },
  {
   "cell_type": "code",
   "execution_count": null,
   "metadata": {},
   "outputs": [],
   "source": [
    "# directory path containing wikipedia extracted data \n",
    "# NOTE This directory must only contain wikipedia extracted data (using wikipedia_data.ipynb)\n",
    "location_of_wiki_jsons = '../Data-Collector/data/Wikipedia/'\n",
    "\n",
    "# directory path to save json file\n",
    "saving_location = './'"
   ]
  },
  {
   "cell_type": "code",
   "execution_count": null,
   "metadata": {},
   "outputs": [],
   "source": [
    "# get all files contained in location directory\n",
    "files = os.listdir(location_of_wiki_jsons)"
   ]
  },
  {
   "cell_type": "code",
   "execution_count": null,
   "metadata": {},
   "outputs": [],
   "source": [
    "# stop words list\n",
    "list_remove = ['private','limited','limit','ed','limite','d','llp','company','pvt','ltd','lim','limi','ted','(opc)','(india)']\n",
    "def return_best(dict1,dict2,cin):\n",
    "    \"\"\"Score the company dict on score calculated\n",
    "\n",
    "    Args:\n",
    "        dict1 (dictionary): Company1 with same wiki page\n",
    "        dict2 ([type]): Company2 with same wikipage\n",
    "        cin ([type]): CIN of the company\n",
    "\n",
    "    Returns:\n",
    "        dictionary: Of best matching company\n",
    "    \"\"\"\n",
    "    for i in dict1:\n",
    "        temp_dict = dict1[i]\n",
    "    names = [temp_dict['name'].lower(), dict2['name'].lower(),dict2['wikipedia page'].lower()]\n",
    "    filter_name = []\n",
    "    for i in range(len(names)):\n",
    "        # format for score calculation and remove stop words\n",
    "        brokn = names[i].split(' ')\n",
    "        for j in range(len(brokn)):\n",
    "            if(brokn[j]in list_remove):\n",
    "                brokn[j]=''\n",
    "        brokn = list(filter(lambda x:len(x)!=0,brokn))\n",
    "        filter_name.append(''.join(brokn))\n",
    "    # calculate score of both companies with wikipedea page title\n",
    "    score1 = fuzz.ratio(filter_name[0],filter_name[2])\n",
    "    score2 = fuzz.ratio(filter_name[1],filter_name[2])\n",
    "    if(score2>score1): return {cin:dict2}\n",
    "    else: return dict1"
   ]
  },
  {
   "cell_type": "code",
   "execution_count": null,
   "metadata": {},
   "outputs": [],
   "source": [
    "final_dict = {}\n",
    "other_dict = {}\n",
    "with tqdm_notebook(total=len(files)) as pbar:\n",
    "    for i in files:\n",
    "        with open(location_of_wiki_jsons+i) as f:\n",
    "            data = json.load(f)\n",
    "        for i in data:\n",
    "            print(i)\n",
    "            if(data[i]['wikipedia page url'] not in other_dict):\n",
    "                other_dict[data[i]['wikipedia page url']]={i:data[i]}\n",
    "            else:\n",
    "                dict1 = other_dict[data[i]['wikipedia page url']]\n",
    "                dict2 = data[i]\n",
    "                other_dict[data[i]['wikipedia page url']] = return_best(dict1,dict2,i)\n",
    "        pbar.update()\n",
    "\n",
    "# update the final_dict with correct data\n",
    "for j in other_dict:\n",
    "    for i in other_dict[j]:\n",
    "        final_dict[i]=other_dict[j][i]\n",
    "\n",
    "# Dump data to data.json in saving directory\n",
    "with open(saving_location+'data.json','w+') as f:\n",
    "    json.dump(final_dict,f,indent=4)"
   ]
  },
  {
   "cell_type": "code",
   "execution_count": null,
   "metadata": {},
   "outputs": [],
   "source": []
  }
 ],
 "metadata": {
  "interpreter": {
   "hash": "e7370f93d1d0cde622a1f8e1c04877d8463912d04d973331ad4851f04de6915a"
  },
  "kernelspec": {
   "display_name": "Python 3.9.7 64-bit",
   "language": "python",
   "name": "python3"
  },
  "language_info": {
   "codemirror_mode": {
    "name": "ipython",
    "version": 3
   },
   "file_extension": ".py",
   "mimetype": "text/x-python",
   "name": "python",
   "nbconvert_exporter": "python",
   "pygments_lexer": "ipython3",
   "version": "3.9.7"
  },
  "orig_nbformat": 4
 },
 "nbformat": 4,
 "nbformat_minor": 2
}
