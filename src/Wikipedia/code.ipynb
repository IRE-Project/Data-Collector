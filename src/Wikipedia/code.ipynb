{
 "cells": [
  {
   "cell_type": "code",
   "execution_count": null,
   "metadata": {},
   "outputs": [],
   "source": [
    "# from google.colab import drive\n",
    "# drive.mount('/gdrive')\n",
    "# %cd /gdrive"
   ]
  },
  {
   "cell_type": "code",
   "execution_count": 3,
   "metadata": {},
   "outputs": [],
   "source": [
    "# !apt-get update # to update ubuntu to correctly run apt install\n",
    "# !pip install fuzzywuzzy\n",
    "# !pip install wikipedia"
   ]
  },
  {
   "cell_type": "code",
   "execution_count": 78,
   "metadata": {},
   "outputs": [],
   "source": [
    "from tqdm.notebook import tqdm_notebook\n",
    "from bs4 import BeautifulSoup\n",
    "from fuzzywuzzy import fuzz\n",
    "import pandas as pd\n",
    "import numpy as np\n",
    "import wikipedia\n",
    "import requests\n",
    "import json\n",
    "import time\n",
    "import re\n",
    "import os"
   ]
  },
  {
   "cell_type": "code",
   "execution_count": 91,
   "metadata": {},
   "outputs": [
    {
     "name": "stdout",
     "output_type": "stream",
     "text": [
      "100\n"
     ]
    }
   ],
   "source": [
    "with open(\"./company_link.json\",\"r+\") as link:\n",
    "    company_links = json.load(link)\n",
    "print(len(company_links))"
   ]
  },
  {
   "cell_type": "code",
   "execution_count": 92,
   "metadata": {},
   "outputs": [],
   "source": [
    "def return_correctname(company_name,results):\n",
    "    score_list = []\n",
    "    max_score = 0\n",
    "    indx=0\n",
    "    for k in range(len(results)):\n",
    "        score = fuzz.ratio(results[k].lower(),company_name)\n",
    "        # print(f'{results[k]} - {score}')\n",
    "        if(score>max_score):\n",
    "            max_score=score \n",
    "            indx=k\n",
    "        score_list.append(score)\n",
    "    if(max_score<=30): return ''\n",
    "    else: return results[indx]\n",
    "\n",
    "def basic_work(title,company_temp_dict):\n",
    "    # print(title)\n",
    "    # page_url = wikipedia.WikipediaPage(title=title).url\n",
    "    temp_url = re.sub(' ','_',title)\n",
    "    page_url = 'https://en.wikipedia.org/wiki/' + temp_url\n",
    "    # print(page_url)\n",
    "    page = requests.get(page_url).text\n",
    "    soup = BeautifulSoup(page, 'html.parser')\n",
    "    infobox = soup.find('table',{'class':\"infobox vcard\"})\n",
    "    company_temp_dict['wikipedia page url']=wikipedia.WikipediaPage(title=title).url\n",
    "    if infobox is not None:\n",
    "        try: \n",
    "            ret_table_dict(infobox,company_temp_dict,(\"table_\"+str(i)))\n",
    "        except Exception as e: \n",
    "            print(e)\n",
    "\n",
    "def ret_parent_table(data):\n",
    "    # data -> table (tags)\n",
    "    # Return Value -> String\n",
    "    rows = data.findChildren('tr')\n",
    "    table = \"\"\n",
    "    i=0\n",
    "    while (i < len(rows)):\n",
    "        if(rows[i].findChildren('table')):\n",
    "            val = len((str(rows[i])).split('<tr>'))-1\n",
    "            i=i+val\n",
    "        else:\n",
    "            table+=str(rows[i])\n",
    "        i+=1\n",
    "    table = '<table>' + table + '</table>'\n",
    "    # print(\"YO\")\n",
    "    table = str(table)\n",
    "    table = table.replace(\"<ul>\",\" \")\n",
    "    table = table.replace(\"</ul>\",\" \")\n",
    "    table = table.replace(\"<li>\",\" \")\n",
    "    table = table.replace(\"</li>\",\",\")\n",
    "    table = table.replace(\"<br/>\",\",\")\n",
    "    return table\n",
    "\n",
    "def ret_table_dict(data,d_company,val):\n",
    "    # data -> string format\n",
    "    # return -> dictionary\n",
    "    try: \n",
    "        table=ret_parent_table(data)\n",
    "        df = pd.read_html(table)\n",
    "        table_columns = list(df[0].columns)\n",
    "        data_list = np.array(df).tolist()[0]\n",
    "    except Exception as e:\n",
    "        print(e)\n",
    "        html_part = re.sub(r'<.*?>', lambda g: g.group(0).upper(), ret_parent_table(data))\n",
    "        df = pd.read_html(html_part)[0]\n",
    "        table_columns = list(df.columns)\n",
    "        data_list = np.array(df).tolist()\n",
    "    used = []\n",
    "    for i in table_columns:\n",
    "        if(len(str(i))>25): return\n",
    "        if(len(str(i))<0 or len(str(i))=='nan' or str(i).isnumeric()): used.append(False)\n",
    "        else: used.append(True)\n",
    "    temp_list = []\n",
    "    for i in range(len(data_list)):\n",
    "        if(not used[0] and len(used)==2):\n",
    "            if(str(data_list[i][0])!='nan' and str(data_list[i][1])!='nan' and len(str(data_list[i][0]))>0 and len(str(data_list[i][1]))>0 and str(data_list[i][0]) != str(data_list[i][1])):\n",
    "                first_val = re.sub(\"\\[[0-9]+\\]\", '', data_list[i][0]).strip().lower()\n",
    "                second_val = re.sub(\"\\[[0-9]+\\]\", '', data_list[i][1]).strip().lower()\n",
    "                d_company[first_val]=second_val \n",
    "        else:\n",
    "            dictio = {}\n",
    "            for j in range(len(table_columns)):\n",
    "                if(str(data_list[i][j])=='nan' or len(str(data_list[i][j]))<=0): continue\n",
    "                if(not str(table_columns[j]).isnumeric()): first_val = re.sub(\"\\[[0-9]+\\]\", '', data_list[i][j]).strip().lower()\n",
    "                else: first_val = int(table_columns[j])\n",
    "                second_val = re.sub(\"\\[[0-9]+\\]\", '', data_list[i][j]).strip().lower()\n",
    "                dictio[first_val]=second_val\n",
    "            temp_list.append(dictio)\n",
    "    if(len(temp_list)>0):\n",
    "        d_company[val]=temp_list"
   ]
  },
  {
   "cell_type": "code",
   "execution_count": 93,
   "metadata": {},
   "outputs": [
    {
     "data": {
      "application/vnd.jupyter.widget-view+json": {
       "model_id": "23833ee80a894c96bf0eebf54c22e2a4",
       "version_major": 2,
       "version_minor": 0
      },
      "text/plain": [
       "  0%|          | 0/100 [00:00<?, ?it/s]"
      ]
     },
     "metadata": {},
     "output_type": "display_data"
    }
   ],
   "source": [
    "count = 0\n",
    "limit = 140000\n",
    "temp_dict = {}\n",
    "findings_dict = {}\n",
    "list_remove = ['private','limited','limit','ed','limite','d','llp','company','pvt','ltd','lim','limi','ted','(opc)','(india)']\n",
    "with tqdm_notebook(total=len(company_links)) as pbar:\n",
    "    for i in company_links:\n",
    "        try:\n",
    "            company_name = company_links[i]['Company'].lower()\n",
    "            brokn = company_name.split(' ')\n",
    "            for j in range(len(brokn)):\n",
    "                if(brokn[j]in list_remove):\n",
    "                    brokn[j]=''\n",
    "            brokn = list(filter(lambda x:len(x)!=0,brokn))\n",
    "            company_name = ' '.join(brokn)\n",
    "            results = wikipedia.search(company_links[i]['Company'])\n",
    "            final_res = return_correctname(company_name,results)\n",
    "            if(len(final_res)>0):\n",
    "                company_temp_dict = {\n",
    "                    'name':company_links[i]['Company'],\n",
    "                    'wikipedia page':final_res\n",
    "                }\n",
    "                basic_work(final_res,company_temp_dict)\n",
    "                if 'headquarters' in company_temp_dict:\n",
    "                    val = re.sub(\",\",\"\",company_temp_dict['headquarters'].lower())\n",
    "                    temp_val = list(filter(lambda x:len(x)>0,val.split(\" \")))\n",
    "                    if ('hyderabad' in temp_val) or ('telangana' in temp_val):\n",
    "                        temp_dict[i] = company_temp_dict\n",
    "            # if(count > limit):\n",
    "            #     break\n",
    "            count+=1\n",
    "        except Exception as e:\n",
    "            print(e)\n",
    "        pbar.update()"
   ]
  },
  {
   "cell_type": "code",
   "execution_count": 94,
   "metadata": {},
   "outputs": [
    {
     "name": "stdout",
     "output_type": "stream",
     "text": [
      "31\n"
     ]
    }
   ],
   "source": [
    "print(len(temp_dict))\n",
    "file = open(\"./check_result.json\", \"w+\")\n",
    "json.dump(temp_dict, file, indent=4)\n",
    "file.close()"
   ]
  },
  {
   "cell_type": "code",
   "execution_count": null,
   "metadata": {},
   "outputs": [],
   "source": []
  }
 ],
 "metadata": {
  "interpreter": {
   "hash": "e7370f93d1d0cde622a1f8e1c04877d8463912d04d973331ad4851f04de6915a"
  },
  "kernelspec": {
   "display_name": "Python 3.9.7 64-bit",
   "language": "python",
   "name": "python3"
  },
  "language_info": {
   "codemirror_mode": {
    "name": "ipython",
    "version": 3
   },
   "file_extension": ".py",
   "mimetype": "text/x-python",
   "name": "python",
   "nbconvert_exporter": "python",
   "pygments_lexer": "ipython3",
   "version": "3.9.7"
  },
  "orig_nbformat": 4
 },
 "nbformat": 4,
 "nbformat_minor": 2
}
