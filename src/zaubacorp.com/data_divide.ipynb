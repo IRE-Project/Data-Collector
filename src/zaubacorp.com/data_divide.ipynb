{
 "cells": [
  {
   "cell_type": "code",
   "execution_count": 4,
   "metadata": {},
   "outputs": [],
   "source": [
    "from tqdm.notebook import tqdm_notebook,tqdm\n",
    "import json\n",
    "import os"
   ]
  },
  {
   "cell_type": "code",
   "execution_count": 6,
   "metadata": {},
   "outputs": [
    {
     "name": "stdout",
     "output_type": "stream",
     "text": [
      "Directory Already Present!\n"
     ]
    },
    {
     "data": {
      "application/vnd.jupyter.widget-view+json": {
       "model_id": "6f045037474c4ae8ab520441b45393a7",
       "version_major": 2,
       "version_minor": 0
      },
      "text/plain": [
       "  0%|          | 0/140280 [00:00<?, ?it/s]"
      ]
     },
     "metadata": {},
     "output_type": "display_data"
    }
   ],
   "source": [
    "with open('../../data/zaubacorp.com/links.json','r+') as jsonfp:\n",
    "    company_links = json.load(jsonfp)\n",
    "\n",
    "# Parameters\n",
    "limit = 5000\n",
    "count = 1\n",
    "file_count = 0\n",
    "\n",
    "# Create the Folder where You want to store Divided files. \n",
    "try: os.mkdir('../../data/zaubacorp.com/temps')\n",
    "except: print(\"Directory Already Present!\")\n",
    "\n",
    "with tqdm_notebook(total=len(company_links)) as pbar:\n",
    "    company_dict = {}\n",
    "    for i in company_links:\n",
    "        if(count > limit):\n",
    "            count=1\n",
    "            file_count+=1\n",
    "            with open('../../data/zaubacorp.com/temps/company_links_'+str(file_count)+'.json','w+') as wf:\n",
    "                json.dump(company_dict,wf,indent=4)\n",
    "            company_dict = {}\n",
    "        company_dict[i] = company_links[i]\n",
    "        pbar.update()\n",
    "        count+=1"
   ]
  },
  {
   "cell_type": "code",
   "execution_count": null,
   "metadata": {},
   "outputs": [],
   "source": []
  }
 ],
 "metadata": {
  "interpreter": {
   "hash": "e7370f93d1d0cde622a1f8e1c04877d8463912d04d973331ad4851f04de6915a"
  },
  "kernelspec": {
   "display_name": "Python 3.9.7 64-bit",
   "name": "python3"
  },
  "language_info": {
   "codemirror_mode": {
    "name": "ipython",
    "version": 3
   },
   "file_extension": ".py",
   "mimetype": "text/x-python",
   "name": "python",
   "nbconvert_exporter": "python",
   "pygments_lexer": "ipython3",
   "version": "3.9.7"
  },
  "orig_nbformat": 4
 },
 "nbformat": 4,
 "nbformat_minor": 2
}
