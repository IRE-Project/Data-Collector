{
  "nbformat": 4,
  "nbformat_minor": 0,
  "metadata": {
    "colab": {
      "name": "Trademark 2.ipynb",
      "provenance": []
    },
    "kernelspec": {
      "name": "python3",
      "display_name": "Python 3"
    },
    "language_info": {
      "name": "python"
    }
  },
  "cells": [
    {
      "cell_type": "code",
      "metadata": {
        "id": "RUlQkTrJgCFi"
      },
      "source": [
        "import requests\n",
        "from bs4 import BeautifulSoup\n",
        "from collections import defaultdict\n",
        "import json\n",
        "import re\n",
        "import sys"
      ],
      "execution_count": 1,
      "outputs": []
    },
    {
      "cell_type": "code",
      "metadata": {
        "id": "SWjg_bKWgHs1"
      },
      "source": [
        "digit_match = re.compile(r\"[0-9]+\")\n",
        "comp_count = 0"
      ],
      "execution_count": 2,
      "outputs": []
    },
    {
      "cell_type": "code",
      "metadata": {
        "id": "qJm7CHMQgLDr"
      },
      "source": [
        "def add_trademarks(trademarks, cin, c_name):\n",
        "\n",
        "    page = 1\n",
        "    c_tms = []\n",
        "    record_count = 0\n",
        "    item = 0\n",
        "    global comp_count\n",
        "\n",
        "    try:\n",
        "\n",
        "        while True:\n",
        "            response = requests.get(f\"https://www.zaubacorp.com/company-trademark/{c_name}/{cin}/page-{page}\")\n",
        "\n",
        "            if response.status_code != 200:\n",
        "                if page == 1:\n",
        "                    raise Exception(response.status_code)\n",
        "                else:\n",
        "                    break\n",
        "\n",
        "            soup = BeautifulSoup(response.text, \"lxml\")\n",
        "\n",
        "            record = soup.find('div', class_=\"col-xs-4 text-left\")\n",
        "            if record:\n",
        "                record_count = digit_match.findall(record.text)\n",
        "                if record_count:\n",
        "                    record_count = int(record_count[0])\n",
        "\n",
        "            tm_records = soup.find_all('span', class_=\"wordMark\")\n",
        "            if tm_records:\n",
        "                for i in range(0, len(tm_records), 3):\n",
        "                    c_tms.append([tm_records[i].text.split(\":\")[1].strip(), tm_records[i + 1].text.split(\":\")[1].strip(), tm_records[i + 1].a[\"title\"]])\n",
        "\n",
        "                tm_labels = soup.find_all('div', class_=\"main-wrapper\")\n",
        "\n",
        "                for record in tm_labels:\n",
        "                    elements = record.text.strip().split(\"\\n\")\n",
        "                    for ele in elements:\n",
        "                        c_tms[item].append(ele.split(\":\")[1].strip())\n",
        "                    if record.img is not None:\n",
        "                        c_tms[item].append(record.img['src'])\n",
        "                    else:\n",
        "                        c_tms[item].append(\"-\")\n",
        "                    item += 1\n",
        "\n",
        "                page += 1\n",
        "            else:\n",
        "                break\n",
        "\n",
        "        if trademarks[cin] != []:\n",
        "            print(\"This is already present in trademarks: \", cin, c_name)\n",
        "        else:\n",
        "            if c_tms:\n",
        "                trademarks[cin] = c_tms\n",
        "                comp_count += 1\n",
        "            else:\n",
        "                trademarks[cin] = [\"-\"]\n",
        "\n",
        "        if len(c_tms) != record_count:\n",
        "            print(\"Not all records extracted\", cin, c_name, len(c_tms))\n",
        "\n",
        "    except Exception as e:\n",
        "        print(str(e))\n",
        "        print(cin, c_name)\n",
        "\n"
      ],
      "execution_count": 3,
      "outputs": []
    },
    {
      "cell_type": "code",
      "metadata": {
        "id": "6nT596prgOjI"
      },
      "source": [
        "file = open(\"linkslist.json\", \"r\")\n",
        "links = json.load(file)\n",
        "file.close()\n",
        "\n",
        "trademarks = defaultdict(lambda: [])\n",
        "\n",
        "start = 10000\n",
        "end = 19999\n",
        "k = 0\n",
        "\n",
        "for row in links[\"data\"][start: end+1]:\n",
        "\n",
        "    add_trademarks(trademarks, row[0], row[1])\n",
        "    k += 1\n",
        "\n",
        "    sys.stderr.write(f\"\\rProgress: {k} / {end - start + 1}\")\n",
        "\n",
        "    if k % 300 == 0:\n",
        "      sys.stderr.write(\"\\nDumping...\\n\")\n",
        "      file = open(f\"trademarks{start}-{start + k-1}.json\", \"w+\")\n",
        "      json.dump(trademarks,file, indent=4)\n",
        "      file.close()\n",
        "\n",
        "sys.stderr.write(f\"\\n\\nCompanies with at least 1 Trademark: {comp_count}\")\n",
        "\n",
        "file = open(f\"trademarks{start}-{end}.json\", \"w+\")\n",
        "json.dump(trademarks,file, indent=4)\n",
        "file.close()"
      ],
      "execution_count": null,
      "outputs": []
    }
  ]
}