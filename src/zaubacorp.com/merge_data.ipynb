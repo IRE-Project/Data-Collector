{
 "cells": [
  {
   "cell_type": "markdown",
   "metadata": {},
   "source": [
    "># For merging companies present in more than one file"
   ]
  },
  {
   "cell_type": "code",
   "execution_count": 8,
   "metadata": {},
   "outputs": [],
   "source": [
    "from tqdm.notebook import tqdm_notebook\n",
    "import os\n",
    "import json"
   ]
  },
  {
   "cell_type": "code",
   "execution_count": 10,
   "metadata": {},
   "outputs": [
    {
     "data": {
      "application/vnd.jupyter.widget-view+json": {
       "model_id": "8756c28e2ea74655abb2976b513cd081",
       "version_major": 2,
       "version_minor": 0
      },
      "text/plain": [
       "  0%|          | 0/17 [00:00<?, ?it/s]"
      ]
     },
     "metadata": {},
     "output_type": "display_data"
    }
   ],
   "source": [
    "files = os.listdir(\"../../Data-Collector/data/zaubacorp.com/Companies\")\n",
    "\n",
    "final_dict = {}\n",
    "with tqdm_notebook(total=len(files)) as pbar:\n",
    "    for i in files:\n",
    "        with open(f'../../Data-Collector/data/zaubacorp.com/Companies/{i}','r+') as f:\n",
    "            temp_dict = json.load(f)\n",
    "        for key in temp_dict:\n",
    "            final_dict[key] = temp_dict[key]\n",
    "        pbar.update()\n",
    "\n",
    "print(\"Writing to files!\")\n",
    "with open(\"./Merged_Companies.json\",'w+') as f:\n",
    "    json.dump(final_dict,f,indent=4)"
   ]
  },
  {
   "cell_type": "code",
   "execution_count": null,
   "metadata": {},
   "outputs": [],
   "source": []
  }
 ],
 "metadata": {
  "interpreter": {
   "hash": "e7370f93d1d0cde622a1f8e1c04877d8463912d04d973331ad4851f04de6915a"
  },
  "kernelspec": {
   "display_name": "Python 3.9.7 64-bit",
   "language": "python",
   "name": "python3"
  },
  "language_info": {
   "codemirror_mode": {
    "name": "ipython",
    "version": 3
   },
   "file_extension": ".py",
   "mimetype": "text/x-python",
   "name": "python",
   "nbconvert_exporter": "python",
   "pygments_lexer": "ipython3",
   "version": "3.9.7"
  },
  "orig_nbformat": 4
 },
 "nbformat": 4,
 "nbformat_minor": 2
}
