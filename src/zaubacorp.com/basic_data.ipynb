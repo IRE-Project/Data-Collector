{
 "cells": [
  {
   "cell_type": "markdown",
   "metadata": {},
   "source": [
    "# Collect Basic Data from zaubacorp ([ColabLink](https://colab.research.google.com/drive/1_dd3q87cpQmp9HS-OHIg2tMkI7vIXnq8#scrollTo=t2KigaPJpmKU))"
   ]
  },
  {
   "cell_type": "code",
   "execution_count": null,
   "metadata": {},
   "outputs": [],
   "source": [
    "from selenium.webdriver.support.ui import WebDriverWait\n",
    "from tqdm.notebook import tqdm_notebook,tqdm\n",
    "from selenium.webdriver.common.by import By\n",
    "from IPython.display import display\n",
    "# from requestium import Session, Keys\n",
    "from selenium import webdriver\n",
    "from bs4 import BeautifulSoup\n",
    "# import lxml.html as lh\n",
    "import pandas as pd\n",
    "import numpy as np\n",
    "import pytesseract\n",
    "# import requests\n",
    "import json\n",
    "import time\n",
    "import sys\n",
    "import re\n",
    "pytesseract.pytesseract.tesseract_cmd = '/usr/bin/tesseract'"
   ]
  },
  {
   "cell_type": "code",
   "execution_count": null,
   "metadata": {},
   "outputs": [],
   "source": [
    "chrome_options = webdriver.ChromeOptions()\n",
    "chrome_options.add_argument('--headless')\n",
    "chrome_options.add_argument('--no-sandbox')\n",
    "chrome_options.add_argument('--disable-dev-shm-usage')\n",
    "sys.path.insert(0,'/usr/lib/chromium-browser/chromedriver')"
   ]
  },
  {
   "cell_type": "code",
   "execution_count": null,
   "metadata": {},
   "outputs": [],
   "source": [
    "url = 'https://www.zaubacorp.com/user/login?destination=node'\n",
    "driver = webdriver.Chrome('chromedriver',options=chrome_options)\n",
    "driver.get(url)"
   ]
  },
  {
   "cell_type": "code",
   "execution_count": null,
   "metadata": {},
   "outputs": [],
   "source": [
    "element_ = driver.page_source\n",
    "# print(element_)"
   ]
  },
  {
   "cell_type": "code",
   "execution_count": null,
   "metadata": {},
   "outputs": [],
   "source": [
    "def login(cuser_text, pass_text, captcha_text):\n",
    "    ### Login and access page\n",
    "    cuser = driver.find_element(By.ID, \"edit-name\")\n",
    "    cpass = driver.find_element(By.ID, \"edit-pass\")\n",
    "    cpt = driver.find_element(By.ID, \"edit-captcha-response\")\n",
    "\n",
    "    cuser.send_keys(cuser_text)\n",
    "    cpass.send_keys(pass_text)\n",
    "    cpt.send_keys(captcha_text)\n",
    "\n",
    "    driver.find_element(By.ID, \"edit-submit\").click()\n",
    "    # with codecs.open(\"/content/drive/MyDrive/Colab Notebooks/IRE Data collection/page_source.txt\", \"w\") as fp:\n",
    "    #     fp.write(driver.page_source)"
   ]
  },
  {
   "cell_type": "code",
   "execution_count": null,
   "metadata": {},
   "outputs": [],
   "source": [
    "# find Captcha & Solve\n",
    "t = driver.find_element(By.XPATH,\"//div[@class='form-type-textfield form-item-captcha-response form-item form-group']\")\n",
    "# print(t.text)\n",
    "variables = ''.join(list(filter(lambda x:len(x)!=0,re.split(r'[Math question *]*',t.text)))[:-1])\n",
    "# print(variables)\n",
    "ans = eval(variables)\n",
    "login('prince404','PRINCE@123',str(ans))"
   ]
  },
  {
   "cell_type": "code",
   "execution_count": null,
   "metadata": {},
   "outputs": [],
   "source": [
    "print(driver.current_url)\n",
    "# this wait below is not working\n",
    "WebDriverWait(driver=driver, timeout=10).until(\n",
    "    lambda x: x.execute_script('return document.readyState') == 'complete'\n",
    ")\n",
    "print(driver.current_url)\n",
    "time.sleep(7)\n",
    "print(driver.current_url)"
   ]
  },
  {
   "cell_type": "code",
   "execution_count": null,
   "metadata": {},
   "outputs": [],
   "source": [
    "def display_all(data):\n",
    "    for i in range(len(data)):\n",
    "        print(i)\n",
    "        display(data[i])"
   ]
  },
  {
   "cell_type": "code",
   "execution_count": null,
   "metadata": {},
   "outputs": [],
   "source": [
    "def get_basic_data(data,d_company):\n",
    "    temp = np.array(data[0])\n",
    "    for i in range(len(temp)):\n",
    "        if((temp[i][1]!='-') and (temp[i][1]!='') and (str(temp[i][1])!='nan')):\n",
    "            d_company[temp[i][0]]=temp[i][1]\n",
    "\n",
    "def previous_data(data,d_company,val):\n",
    "    temp = (np.array(data[0])).tolist()\n",
    "    if(len(temp)<=1):\n",
    "        return\n",
    "    d_company[val] = temp\n",
    "\n",
    "def establishments(data,d_company):\n",
    "    temp = np.array(data[0]).tolist()\n",
    "    val = []\n",
    "    if(len(temp)<=1):\n",
    "        return\n",
    "    for i in range(len(temp)):\n",
    "        val.append(temp[i][3])\n",
    "    d_company['Establishents']=val\n",
    "\n",
    "def charges(data,d_company):\n",
    "    temp = np.array(data[0]).tolist()\n",
    "    charges = []\n",
    "    amount = 0\n",
    "    if(len(temp)<=1): \n",
    "        return\n",
    "    for i in range(len(temp)):\n",
    "        if(temp[i][5]!=float('nan') or str(temp[i][5]).isnumeric()):\n",
    "            amount+=int(temp[i][5])\n",
    "        charges.append(int(temp[i][0]))\n",
    "    d_company['Charges IDs'] = charges\n",
    "    d_company['Cahrges/Borrowing Amount'] = amount\n",
    "    d_company['Number of Charges']=len(temp)\n",
    "\n",
    "def persecution(data,d_company):\n",
    "    temp = np.array(data[0]).tolist()\n",
    "    # active=0\n",
    "    # not_active=0\n",
    "    if(len(temp)<=1):\n",
    "        return\n",
    "    d_company['Number of Persecutions']=len(temp)\n",
    "\n",
    "def cur_directors(data,d_company):\n",
    "    temp = np.array(data[0]).tolist()\n",
    "    direct = []\n",
    "    if(len(temp)<1):\n",
    "        return\n",
    "    for i in range(len(temp)):\n",
    "        if(str(temp[i][0]).isdecimal()):\n",
    "            direct.append(temp[i][1])\n",
    "    d_company['Current Directors'] = direct\n"
   ]
  },
  {
   "cell_type": "code",
   "execution_count": null,
   "metadata": {},
   "outputs": [],
   "source": [
    "def fetch_data(link):\n",
    "    driver.get(link)\n",
    "    WebDriverWait(driver=driver, timeout=10).until(\n",
    "    lambda x: x.execute_script('return document.readyState') == 'complete'\n",
    "    )\n",
    "    print(driver.current_url)\n",
    "    time.sleep(1.5)\n",
    "    soup = BeautifulSoup(driver.page_source, 'html.parser')\n",
    "    temp_data = soup.find_all('table')\n",
    "    # temp_data = pd.read_html(driver.page_source,header=None)\n",
    "    d_company = {}\n",
    "    #NOTE Company Details\n",
    "    get_basic_data(pd.read_html(str(temp_data[0]),header=None),d_company)\n",
    "\n",
    "    #NOTE Share Capital & Number of Employees some data Available After Login\n",
    "    get_basic_data(pd.read_html(str(temp_data[3]),header=None),d_company)\n",
    "\n",
    "    #NOTE listing status\n",
    "    get_basic_data(pd.read_html(str(temp_data[4]),header=None),d_company)\n",
    "\n",
    "    #NOTE Balance Sheet\n",
    "    get_basic_data(pd.read_html(str(temp_data[5]),header=None),d_company)\n",
    "\n",
    "    #NOTE Profit & Loss\n",
    "    get_basic_data(pd.read_html(str(temp_data[6]),header=None),d_company)\n",
    "\n",
    "    try:\n",
    "        #NOTE Previous Company CIN available After login\n",
    "        previous_data(pd.read_html(str(temp_data[2]),header=None),d_company,'Previous CIN')\n",
    "        #NOTE Previous Company Names available After login\n",
    "        previous_data(pd.read_html(str(temp_data[1]),header=None),d_company,'Previous Names')\n",
    "    except:\n",
    "        pass\n",
    "    # Establishments :\n",
    "    try:\n",
    "        cur_directors(pd.read_html(str(temp_data[7]),header=None),d_company)\n",
    "        persecution(pd.read_html(str(temp_data[-3]),header=None),d_company)\n",
    "        charges(pd.read_html(str(temp_data[-2]),header=None),d_company)\n",
    "        establishments(pd.read_html(str(temp_data[-1]),header=None),d_company)\n",
    "    except:\n",
    "        pass\n",
    "\n",
    "    # print(json.dumps(d_company,indent=5))\n",
    "    # display_all(temp_data)\n",
    "    return d_company"
   ]
  },
  {
   "cell_type": "code",
   "execution_count": null,
   "metadata": {},
   "outputs": [],
   "source": [
    "with open('../../data/zaubacorp.com/links.json','r+') as jsonfp:\n",
    "    company_links = json.load(jsonfp)\n",
    "    \n",
    "print(\"Length of Data :\",len(company_links))\n",
    "company_data = {}\n",
    "with tqdm_notebook(total=len(company_links)) as pbar:\n",
    "    for i in company_links:\n",
    "        json_data = fetch_data(company_links[i]['link'])\n",
    "        company_data[i] = json_data\n",
    "        pbar.update()"
   ]
  },
  {
   "cell_type": "code",
   "execution_count": null,
   "metadata": {},
   "outputs": [],
   "source": [
    "file = open(\"../../data/zaubacorp.com/Companies.json\", \"w+\")\n",
    "json.dump(company_data, file, indent=4)\n",
    "file.close()"
   ]
  },
  {
   "cell_type": "code",
   "execution_count": null,
   "metadata": {},
   "outputs": [],
   "source": [
    "# json_file = fetch_data(\"https://www.zaubacorp.com/company/BHARAT-BIOTECH-INTERNATIONAL-LIMITED/U24230TG1996PLC023232\")\n",
    "# print(json.dumps(json_file,indent=5))"
   ]
  }
 ],
 "metadata": {
  "interpreter": {
   "hash": "e7370f93d1d0cde622a1f8e1c04877d8463912d04d973331ad4851f04de6915a"
  },
  "kernelspec": {
   "display_name": "Python 3.9.7 64-bit",
   "name": "python3"
  },
  "language_info": {
   "codemirror_mode": {
    "name": "ipython",
    "version": 3
   },
   "file_extension": ".py",
   "mimetype": "text/x-python",
   "name": "python",
   "nbconvert_exporter": "python",
   "pygments_lexer": "ipython3",
   "version": "3.9.7"
  },
  "orig_nbformat": 4
 },
 "nbformat": 4,
 "nbformat_minor": 2
}
