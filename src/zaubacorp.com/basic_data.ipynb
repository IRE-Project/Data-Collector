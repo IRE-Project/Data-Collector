{
 "cells": [
  {
   "cell_type": "code",
   "execution_count": 1,
   "metadata": {},
   "outputs": [],
   "source": [
    "from selenium.webdriver.support.ui import WebDriverWait\n",
    "from tqdm.notebook import tqdm_notebook,tqdm\n",
    "from selenium.webdriver.common.by import By\n",
    "from IPython.display import display\n",
    "from selenium import webdriver\n",
    "from bs4 import BeautifulSoup\n",
    "import pandas as pd\n",
    "import numpy as np\n",
    "import pytesseract\n",
    "import json\n",
    "import time\n",
    "import sys\n",
    "import re\n",
    "pytesseract.pytesseract.tesseract_cmd = '/usr/bin/tesseract'"
   ]
  },
  {
   "cell_type": "code",
   "execution_count": 2,
   "metadata": {},
   "outputs": [],
   "source": [
    "chrome_options = webdriver.ChromeOptions()\n",
    "chrome_options.add_argument('--headless')\n",
    "chrome_options.add_argument('--no-sandbox')\n",
    "chrome_options.add_argument('--disable-dev-shm-usage')\n",
    "sys.path.insert(0,'/usr/lib/chromium-browser/chromedriver')"
   ]
  },
  {
   "cell_type": "code",
   "execution_count": 3,
   "metadata": {},
   "outputs": [],
   "source": [
    "url = 'https://www.zaubacorp.com/user/login?destination=node'\n",
    "driver = webdriver.Chrome('chromedriver',options=chrome_options)\n",
    "driver.get(url)"
   ]
  },
  {
   "cell_type": "code",
   "execution_count": 4,
   "metadata": {},
   "outputs": [],
   "source": [
    "element_ = driver.page_source\n",
    "# print(element_)"
   ]
  },
  {
   "cell_type": "code",
   "execution_count": 5,
   "metadata": {},
   "outputs": [],
   "source": [
    "def login(cuser_text, pass_text, captcha_text):\n",
    "    '''\n",
    "    Login and access page\n",
    "    '''\n",
    "    cuser = driver.find_element(By.ID, \"edit-name\")\n",
    "    cpass = driver.find_element(By.ID, \"edit-pass\")\n",
    "    cpt = driver.find_element(By.ID, \"edit-captcha-response\")\n",
    "    cuser.send_keys(cuser_text)\n",
    "    cpass.send_keys(pass_text)\n",
    "    cpt.send_keys(captcha_text)\n",
    "    driver.find_element(By.ID, \"edit-submit\").click()"
   ]
  },
  {
   "cell_type": "code",
   "execution_count": 6,
   "metadata": {},
   "outputs": [],
   "source": [
    "t = driver.find_element(By.XPATH,\"//div[@class='form-type-textfield form-item-captcha-response form-item form-group']\")\n",
    "variables = ''.join(list(filter(lambda x:len(x)!=0,re.split(r'[Math question *]*',t.text)))[:-1])\n",
    "ans = eval(variables)\n",
    "login('prince404','PRINCE@123',str(ans))"
   ]
  },
  {
   "cell_type": "code",
   "execution_count": 7,
   "metadata": {},
   "outputs": [
    {
     "name": "stdout",
     "output_type": "stream",
     "text": [
      "https://www.zaubacorp.com/user/login?destination=node\n",
      "https://www.zaubacorp.com/user/login?destination=node\n",
      "https://www.zaubacorp.com/node\n"
     ]
    }
   ],
   "source": [
    "print(driver.current_url)\n",
    "# Check this wait\n",
    "WebDriverWait(driver=driver, timeout=10).until(\n",
    "    lambda x: x.execute_script('return document.readyState') == 'complete'\n",
    ")\n",
    "print(driver.current_url)\n",
    "time.sleep(7)\n",
    "print(driver.current_url)"
   ]
  },
  {
   "cell_type": "code",
   "execution_count": 8,
   "metadata": {},
   "outputs": [],
   "source": [
    "def display_all(data):\n",
    "    for i in range(len(data)):\n",
    "        print(i)\n",
    "        display(data[i])"
   ]
  },
  {
   "cell_type": "code",
   "execution_count": 9,
   "metadata": {},
   "outputs": [],
   "source": [
    "def load_page(link):\n",
    "    driver.get(link)\n",
    "    WebDriverWait(driver=driver, timeout=10).until(\n",
    "    lambda x: x.execute_script('return document.readyState') == 'complete'\n",
    "    )\n",
    "    print(driver.current_url)\n",
    "    time.sleep(3)\n",
    "\n",
    "def basic_details(data,d_company):\n",
    "    temp = np.array(data)[0]\n",
    "    for i in range(len(temp)):\n",
    "        if((temp[i][1]!='-') and (temp[i][1]!='') and (str(temp[i][1])!='nan')):\n",
    "            d_company[temp[i][0]]=temp[i][1]\n",
    "\n",
    "def pre_data(data,d_company,val):\n",
    "    temp = np.array(data).tolist()[0]\n",
    "    if(len(temp)<1 or (len(temp)==1 and 'found' in temp[0][0].split(' '))):\n",
    "        return\n",
    "    l = []\n",
    "    for i in range(len(temp)):\n",
    "        l.append(temp[i][0])\n",
    "    d_company[val]=l\n",
    "\n",
    "def establishments(data,d_company):\n",
    "    temp = np.array(data).tolist()[0]\n",
    "    if(len(temp)<1 or (len(temp)==1 and 'found' in (temp[0][0].lower()).split(' '))):\n",
    "        return\n",
    "    l = []\n",
    "    for i in range(len(temp)):\n",
    "        l.append(temp[i][3])\n",
    "    d_company['Establishments'] = l\n",
    "\n",
    "def charges(data,d_company):\n",
    "    temp = np.array(data).tolist()[0]\n",
    "    if(len(temp)<1 or (len(temp)==1 and 'found' in str(temp[0][0]).split(' '))):\n",
    "        return\n",
    "    l = []\n",
    "    amount = 0\n",
    "    for i in range(len(temp)):\n",
    "        if(temp[i][5]!=float('nan') or str(temp[i][5]).isnumeric()):\n",
    "            amount+=int(temp[i][5])\n",
    "        l.append(int(temp[i][0]))\n",
    "    d_company['Charges IDs'] = l\n",
    "    d_company['Cahrges/Borrowing Amount'] = amount\n",
    "    d_company['Number of Charges']=len(temp)\n",
    "\n",
    "def persecution(data,d_company):\n",
    "    temp = np.array(data).tolist()[0]\n",
    "    if(len(temp)<1 or (len(temp)==1 and 'found' in (temp[0][0].lower()).split(' '))):\n",
    "        return\n",
    "    # l = []\n",
    "    # for i in range(len(temp)):\n",
    "    #     l.append(temp[i][3])\n",
    "    # d_company['Persecution'] = l\n",
    "    d_company['Number of Persecutions']=len(temp)\n",
    "\n",
    "def cur_directors(data,d_company):\n",
    "    temp = np.array(data[0]).tolist()\n",
    "    if(len(temp)<1 or (len(temp)==1 and 'not' in (temp[0][0].lower()).split(' '))):\n",
    "        return\n",
    "    l = []\n",
    "    for i in range(len(temp)):\n",
    "        if(str(temp[i][0]).isdecimal()):\n",
    "            l.append(temp[i][1])\n",
    "    d_company['Current Directors'] = l"
   ]
  },
  {
   "cell_type": "code",
   "execution_count": 10,
   "metadata": {},
   "outputs": [],
   "source": [
    "def fetch_data(link):\n",
    "    load_page(link)\n",
    "    page = driver.page_source\n",
    "    soup = BeautifulSoup(page, 'html.parser')\n",
    "    temp_data = soup.find_all('table')\n",
    "    if(len(temp_data)<5):\n",
    "        print(\"Company Not Found!\")\n",
    "        return\n",
    "    d_company = {}\n",
    "    basic_details(pd.read_html(str(temp_data[0]),header=None),d_company)\n",
    "    basic_details(pd.read_html(str(temp_data[3]),header=None),d_company)\n",
    "    basic_details(pd.read_html(str(temp_data[4]),header=None),d_company)\n",
    "    basic_details(pd.read_html(str(temp_data[5]),header=None),d_company)\n",
    "    basic_details(pd.read_html(str(temp_data[6]),header=None),d_company)\n",
    "    try:\n",
    "        pre_data(pd.read_html(str(temp_data[1]),header=None),d_company,'Previous Names')\n",
    "        pre_data(pd.read_html(str(temp_data[2]),header=None),d_company,'Previous CIN')\n",
    "    except:\n",
    "        pass\n",
    "    try :\n",
    "        establishments(pd.read_html(str(temp_data[-1]),header=None),d_company)\n",
    "        charges(pd.read_html(str(temp_data[-2]),header=None),d_company)\n",
    "        persecution(pd.read_html(str(temp_data[-3]),header=None),d_company)\n",
    "        cur_directors(pd.read_html(str(temp_data[7]),header=None),d_company)\n",
    "    except:\n",
    "        pass\n",
    "    return d_company"
   ]
  },
  {
   "cell_type": "code",
   "execution_count": 11,
   "metadata": {},
   "outputs": [
    {
     "name": "stdout",
     "output_type": "stream",
     "text": [
      "Length of Data : 140280\n"
     ]
    },
    {
     "data": {
      "application/vnd.jupyter.widget-view+json": {
       "model_id": "c79fa198a4774b8ba0946da1464a7bba",
       "version_major": 2,
       "version_minor": 0
      },
      "text/plain": [
       "  0%|          | 0/140280 [00:00<?, ?it/s]"
      ]
     },
     "metadata": {},
     "output_type": "display_data"
    },
    {
     "name": "stdout",
     "output_type": "stream",
     "text": [
      "https://www.zaubacorp.com/company/RUDRANGI-WIRE-PRODUCTS-PRIVATE-LIMITED/U31300TG1991PTC013468\n",
      "https://www.zaubacorp.com/company/RUDRANI-INFRA-PROJECTS-PRIVATE-LIMITED/U45300TG2008PTC059087\n",
      "https://www.zaubacorp.com/company/RUDRANI-PHARMACEUTICALS-PRIVATE-LIMITED/U24239TG2003PTC042314\n",
      "https://www.zaubacorp.com/company/RUDRANI-REALTORS-PRIVATE-LIMITED/U45201TG2021PTC151544\n",
      "https://www.zaubacorp.com/company/RUDRAPRIYA-DISTRIBUTOR-PRIVATE-LIMITED/U51909TG2010PTC109626\n",
      "https://www.zaubacorp.com/company/RUDRAVEERYA-ENTERPRISES-PRIVATE-LIMITED/U70109TG2021PTC148201\n",
      "https://www.zaubacorp.com/company/RUDRAVEL-PRIVATE-LIMITED/U52609TG2020PTC141552\n",
      "https://www.zaubacorp.com/company/RUDRESHWARA-WOMEN-FARMERS-PRODUCER-COMPANY-LIMITED/U01100TG2021PTC155585\n",
      "https://www.zaubacorp.com/company/RUDRINI-HDPE-PIPES-AND-FITTINGS-PRIVATE-LIMITED/U25209TG2017PTC114351\n",
      "https://www.zaubacorp.com/company/RUDVIN-CORPORATION-INDIA-PRIVATE-LIMITED/U24239TG2006PTC048783\n",
      "https://www.zaubacorp.com/company/RUGENT-CONSULTANCY-SERVICES-PRIVATE-LIMITED/U74999TG2018PTC122949\n",
      "https://www.zaubacorp.com/company/RUGGED-FOODZ-PRIVATE-LIMITED/U15133TG2018PTC123109\n",
      "https://www.zaubacorp.com/company/RUHI-ENGINEERING-PRIVATE-LIMITED/U28999TG2001PTC038148\n",
      "https://www.zaubacorp.com/company/RUHI-TECH-SERVICES-LLP/AAJ-7579\n",
      "https://www.zaubacorp.com/company/RUHIKA-INFOTECH-PRIVATE-LIMITED/U72900TG2018PTC126416\n",
      "https://www.zaubacorp.com/company/RUHIKA-INFRAVENTURES-LLP/AAR-2517\n",
      "https://www.zaubacorp.com/company/RUHINTECH-PRIVATE-LIMITED/U72900TG2020PTC142608\n",
      "https://www.zaubacorp.com/company/RUJUL-CHEMICALS-PRIVATE-LIMITED/U24290TG2020PTC143252\n",
      "https://www.zaubacorp.com/company/RUKAM-ENGINEERING-AND-CHEMICALS-PRIVATE-LIMITED/U29308TG2020PTC141736\n",
      "https://www.zaubacorp.com/company/RUKKVEER-FOOD-PRODUCTS-PRIVATE-LIMITED/U15400TG2010PTC069505\n",
      "https://www.zaubacorp.com/company/RUKMINET-OPC-PRIVATE-LIMITED/U72501TG2017OPC115474\n",
      "https://www.zaubacorp.com/company/RUKMINI-FARMS-PRIVATE-LIMITED/U01110TG1997PTC026743\n",
      "https://www.zaubacorp.com/company/RUKMINI-KALYAN-HOSPITALS-PRIVATE-LIMITED/U85110TG1999PTC031831\n",
      "https://www.zaubacorp.com/company/RUKMINI-LEASING-LIMITED/U65921TG1992PLC007089\n",
      "https://www.zaubacorp.com/company/RUKMINI-TEJASWINI-PROJECTS-PRIVATE-LIMITED/U40109TG2009PTC063568\n",
      "https://www.zaubacorp.com/company/RULER-READY-MIX-PRIVATE-LIMITED/U74999TG2019PTC131068\n",
      "https://www.zaubacorp.com/company/RULERZ-AND-ROCKERZ-MOTORS-LLP/AAD-7591\n",
      "https://www.zaubacorp.com/company/RULESSTACK-PRIVATE-LIMITED/U72900TG2020PTC141534\n",
      "https://www.zaubacorp.com/company/RUMA-PLASTICS-PRIVATE-LIMITED/U25209TG1983PTC004099\n",
      "https://www.zaubacorp.com/company/RUMALLA-CONSULTING-SERVICES-OPC-PRIVATE-LIMITED/U74999TG2020OPC141462\n",
      "https://www.zaubacorp.com/company/RUMI-METAL-INDUSTRIES-PVT-LTD/U28110TG1985PTC005747\n",
      "https://www.zaubacorp.com/company/RUMIK-INDUSTRIAL-PRODUCTS-PRIVATE-LIMITE-D/U29220TG1996PTC025032\n",
      "https://www.zaubacorp.com/company/RUMMAIYA-MARKETING-PRIVATE-LIMITED/U52520TG2004PTC043294\n",
      "https://www.zaubacorp.com/company/RUMO-CHEMICAL-PRIVATE-LIMITED/U24230TG1995PTC021849\n",
      "https://www.zaubacorp.com/company/RUMPAT-TECHNOLOGIES-PRIVATE-LIMITED/U72200TG2018PTC128442\n",
      "https://www.zaubacorp.com/company/RUMPES-IT-SOLUTIONS-PRIVATE-LIMITED/U72900TG2019PTC134886\n",
      "https://www.zaubacorp.com/company/RUMS-AKANSHA-TECHNOLOGIES-PRIVATE-LIMITE-D/U72200TG2005PTC046453\n",
      "https://www.zaubacorp.com/company/RUN4ME-INDIA-PRIVATE-LIMITED/U72900TG2020PTC146713\n",
      "https://www.zaubacorp.com/company/RUNAWARE-SOFTWARE-PRIVATE-LIMITED/U72200TG2007FTC054205\n",
      "https://www.zaubacorp.com/company/RUNCODE-SOFTWARE-SOLUTIONS-PRIVATE-LIMITED/U72200TG2010PTC069591\n",
      "https://www.zaubacorp.com/company/RUNFLAT-TIRE-SYSTEMS-PRIVATE-LIMITED/U34200TG2015PTC097848\n",
      "https://www.zaubacorp.com/company/RUNIIC-TECHNOLOGY-OPC-PRIVATE-LIMITED/U72200TG2021OPC155722\n",
      "https://www.zaubacorp.com/company/RUNNRUN-PETROCHEM-PRIVATE-LIMITED/U11200TG2020PTC139823\n",
      "https://www.zaubacorp.com/company/RUNSHARK-PRIVATE-LIMITED/U93000TG2016PTC112564\n",
      "https://www.zaubacorp.com/company/RUNVAL-AGRI-INPUTS-PRIVATE-LIMITED/U24200TG2019PTC137655\n",
      "https://www.zaubacorp.com/company/RUP-SOFTECH-PRIVATE-LIMITED/U74999TG2017PTC116758\n",
      "https://www.zaubacorp.com/company/RUPA-CONSUMABLES-AND-HOME-APPLIANCES-PRIVATE-LIMITED/U52339TG2005PTC045053\n",
      "https://www.zaubacorp.com/company/RUPANT-TECHNOLOGIES-PRIVATE-LIMITED/U73100TG2020PTC138562\n",
      "https://www.zaubacorp.com/company/RUPERAO-CONSTRUCTIONS-PRIVATE-LIMITED/U45400TG2018PTC124332\n",
      "https://www.zaubacorp.com/company/RUPINA-ROCK-DRILLS-PRIVATE-LIMITED/U13209TG1992PTC014252\n",
      "https://www.zaubacorp.com/company/RUPNARAYANA-AGRO-FARMS-PRIVATE-LIMITED/U01119TG2006PTC052041\n",
      "https://www.zaubacorp.com/company/RUPRAN-MINERALS-AND-METALS-PRIVATE-LIMITED/U14200TG2008PTC059514\n",
      "https://www.zaubacorp.com/company/RUR-EDUCATIONAL-PRIVATE-LIMITED/U80302TG2012PTC079782\n",
      "https://www.zaubacorp.com/company/RURAL-REACH-SERVICES-PRIVATE-LIMITED/U93000TG2010PTC068542\n",
      "https://www.zaubacorp.com/company/RURAL-SECRETS-AGRO-PRIVATE-LIMITED/U15400TG2021PTC154714\n",
      "https://www.zaubacorp.com/company/RUSHALI-GARMENTS-PRIVATE-LIMITED/U18100TG1999PTC032005\n",
      "https://www.zaubacorp.com/company/RUSHBADRI-AGRO-FARMS-PRIVATE-LIMITED/U01403TG2008PTC062002\n",
      "https://www.zaubacorp.com/company/RUSHEEL-MARKETING-PRIVATE-LIMITED/U74992TG2011PTC077700\n",
      "https://www.zaubacorp.com/company/RUSHI-GENETICS-PRIVATE-LIMITED/U01200TG2013PTC086195\n",
      "https://www.zaubacorp.com/company/RUSHI-LIFE-SCIENCES-PRIVATE-LIMITED/U24230TG2019PTC131272\n",
      "https://www.zaubacorp.com/company/RUSHI-RENEWABLE-ENERGIES-PRIVATE-LIMITED/U40105TG2013PTC090513\n",
      "https://www.zaubacorp.com/company/RUSHIE-MICRO-SOFT-INDIA-LIMITED/U72200TG2000PLC033990\n",
      "https://www.zaubacorp.com/company/RUSHIL-MICRO-IT-SOLUTIONS-PRIVATE-LIMITED-/U72200TG2008PTC060709\n",
      "https://www.zaubacorp.com/company/RUSHIL-TECHNO-SOLUTIONS-PRIVATE-LIMITED/U72900TG2009PTC063590\n",
      "https://www.zaubacorp.com/company/RUSNI-DISTILLERIES-PRIVATE-LIMITED/U15511TG2003PTC040239\n",
      "https://www.zaubacorp.com/company/RUSODAY-SECUIRITIES-LTD/U65990TG1994PLC018177\n",
      "https://www.zaubacorp.com/company/RUSSEL-IPM-LIMITED/U24219TG1999PLC031319\n",
      "https://www.zaubacorp.com/company/RUSSEL-SHELTERS-PRIVATE-LIMITED/U26931TG1996PTC024015\n",
      "https://www.zaubacorp.com/company/RUSSELL-S-ENGLISH-TRAINING-PRIVATE-LIMIT-ED/U74900TG2012PTC084811\n",
      "https://www.zaubacorp.com/company/RUST-AND-RUSTED-PRIVATE-LIMITED/U55209TG2017PTC114319\n",
      "https://www.zaubacorp.com/company/RUTH-INFO-SERVICES-PRIVATE-LIMITED/U72900TG2017PTC115255\n",
      "https://www.zaubacorp.com/company/RUTHAM-ECOMMERCE-LLP/AAN-8733\n",
      "https://www.zaubacorp.com/company/RUTHBRICK-BUILDERS-AND-DEVELOPERS-PRIVATE-LIMITED/U45400TG2021PTC154716\n",
      "https://www.zaubacorp.com/company/RUTHERFORD-TECHNOLOGIES-PRIVATE-LIMITED/U72900TG2017PTC117805\n",
      "https://www.zaubacorp.com/company/RUTHVIK-ESTATES-PRIVATE-LIMITED/U45200TG2005PTC045883\n",
      "https://www.zaubacorp.com/company/RUTHVIKA-ENTERPRISES-OPC-PRIVATE-LIMITED/U74999TG2019OPC137632\n",
      "https://www.zaubacorp.com/company/RUTHWIK-TRADE-EXIM-PRIVATE-LIMITED/U51900TG2010PTC070237\n",
      "https://www.zaubacorp.com/company/RUTRON-PRO-AV-COMMUNICATIONS-PRIVATE-LIMITED/U74999TG2017PTC120319\n",
      "https://www.zaubacorp.com/company/RUTTVEG-SOLUTIONS-PRIVATE-LIMITED/U72200TG2017PTC116496\n",
      "https://www.zaubacorp.com/company/RUTUTEK-CORPORATE-CONSULTING-PRIVATE-LIMITED/U93090TG2020PTC143099\n",
      "https://www.zaubacorp.com/company/RUTVIKA-AGRO-FARMS-LLP/AAR-4445\n",
      "https://www.zaubacorp.com/company/RUYA-TECHNOLOGIES-PRIVATE-LIMITED/U72900TG2018PTC126935\n",
      "https://www.zaubacorp.com/company/RUZO-INFRA-PRIVATE-LIMITED/U45309TG2019PTC131403\n",
      "https://www.zaubacorp.com/company/RV-ECOINFRA-CONSULTANCY-PRIVATE-LIMITED/U93090TG2019PTC130429\n",
      "https://www.zaubacorp.com/company/RV-IMAGE-TRANSFORMERS-PRIVATE-LIMITED/U74999TG2018PTC126098\n",
      "https://www.zaubacorp.com/company/RV-TECHY-SOLUTIONS-PRIVATE-LIMITED/U72900TG2021PTC153012\n",
      "https://www.zaubacorp.com/company/RV-TRANSCAT-PRIVATE-LIMITED/U74999TG2017PTC120771\n",
      "https://www.zaubacorp.com/company/RVA-PUBLICATIONS-AND-CREATIONS-PRIVATE-LIMITED/U22219TG2010PTC071072\n",
      "https://www.zaubacorp.com/company/RVCHIT-FUNDS-SERVICES-PRIVATE-LIMITED/U65992TG2020PTC146966\n",
      "https://www.zaubacorp.com/company/RVEE-INFRA-LLP/AAR-4397\n",
      "https://www.zaubacorp.com/company/RVF-SOLUTIONS-PRIVATE-LIMITED/U72900TG2021PTC149913\n",
      "https://www.zaubacorp.com/company/RVH-INTERNATIONAL-SOLUTIONS-PRIVATE-LIMITED/U72900TG2021PTC149488\n",
      "https://www.zaubacorp.com/company/RVK-IT-SOLUTIONS-INDIA-PRIVATE-LIMITED/U72200TG2014PTC093018\n",
      "https://www.zaubacorp.com/company/RVM-HEALTHCARE-PRIVATE-LIMITED/U85300TG2021PTC152147\n",
      "https://www.zaubacorp.com/company/RVM-INDUSTRIES-PRIVATE-LIMITED/U74900TG2014PTC096225\n",
      "https://www.zaubacorp.com/company/RVM-POLYTECH-ENGG-OPC-PRIVATE-LIMITED/U25209TG2017OPC116362\n",
      "https://www.zaubacorp.com/company/RVPR-CONSTRUCTIONS-PRIVATE-LIMITED/U45203TG2010PTC070742\n",
      "https://www.zaubacorp.com/company/RVPR-ENGINEERING-SERVICES-PRIVATE-LIMITED/U74200TG2012PTC084451\n",
      "https://www.zaubacorp.com/company/RVR-AVENUES-LLP/AAM-7794\n",
      "https://www.zaubacorp.com/company/RVR-DIGITAL-INFRASTRUCTURES-LIMITED/U45202TG2006PLC050499\n",
      "https://www.zaubacorp.com/company/RVR-LABS-PRIVATE-LIMITED/U24100TG2015PTC101522\n"
     ]
    }
   ],
   "source": [
    "with open('../../data/zaubacorp.com/links.json','r+') as jsonfp:\n",
    "    company_links = json.load(jsonfp)\n",
    "    \n",
    "print(\"Length of Data :\",len(company_links))\n",
    "company_data = {}\n",
    "# for checking limit = 100 \n",
    "#NOTE Change or Remove Limit and Count \n",
    "limit = 100\n",
    "count = 0 \n",
    "with tqdm_notebook(total=len(company_links)) as pbar:\n",
    "    for i in company_links:\n",
    "        if(count > limit):\n",
    "            break\n",
    "        json_data = fetch_data(company_links[i]['link'])\n",
    "        company_data[i] = json_data\n",
    "        pbar.update()\n",
    "        count+=1"
   ]
  },
  {
   "cell_type": "code",
   "execution_count": 12,
   "metadata": {},
   "outputs": [],
   "source": [
    "file = open(\"../../data/zaubacorp.com/Companies.json\", \"w+\")\n",
    "json.dump(company_data, file, indent=4)\n",
    "file.close()"
   ]
  },
  {
   "cell_type": "code",
   "execution_count": null,
   "metadata": {},
   "outputs": [],
   "source": []
  }
 ],
 "metadata": {
  "interpreter": {
   "hash": "e7370f93d1d0cde622a1f8e1c04877d8463912d04d973331ad4851f04de6915a"
  },
  "kernelspec": {
   "display_name": "Python 3.9.7 64-bit",
   "name": "python3"
  },
  "language_info": {
   "codemirror_mode": {
    "name": "ipython",
    "version": 3
   },
   "file_extension": ".py",
   "mimetype": "text/x-python",
   "name": "python",
   "nbconvert_exporter": "python",
   "pygments_lexer": "ipython3",
   "version": "3.9.7"
  },
  "orig_nbformat": 4
 },
 "nbformat": 4,
 "nbformat_minor": 2
}
