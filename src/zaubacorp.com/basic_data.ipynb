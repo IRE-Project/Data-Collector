{
 "cells": [
  {
   "cell_type": "markdown",
   "metadata": {},
   "source": [
    "# Collect Basic Data from zaubacorp ([ColabLink](https://colab.research.google.com/drive/1_dd3q87cpQmp9HS-OHIg2tMkI7vIXnq8#scrollTo=t2KigaPJpmKU))"
   ]
  },
  {
   "cell_type": "code",
   "execution_count": null,
   "metadata": {},
   "outputs": [],
   "source": [
    "import requests\n",
    "from tqdm.notebook import tqdm_notebook,tqdm\n",
    "from IPython.display import display\n",
    "from bs4 import BeautifulSoup\n",
    "import lxml.html as lh\n",
    "import pandas as pd\n",
    "import numpy as np\n",
    "import json\n",
    "import copy\n",
    "import re"
   ]
  },
  {
   "cell_type": "code",
   "execution_count": null,
   "metadata": {},
   "outputs": [],
   "source": [
    "data = pd.read_csv('./data_/company_master_data_upto_Mar_2015_Telangana.csv',encoding='latin-1')\n",
    "print(\"> Headers :\",data.columns)\n",
    "print(\"> Size :\",data.shape)\n",
    "data.head()"
   ]
  },
  {
   "cell_type": "code",
   "execution_count": null,
   "metadata": {},
   "outputs": [],
   "source": [
    "count = 0\n",
    "basic_url = 'https://www.zaubacorp.com/company/'\n",
    "for i in tqdm_notebook(range(len(data['CORPORATE_IDENTIFICATION_NUMBER']))):\n",
    "    comp_name = '-'.join(data['COMPANY_NAME'][i].split(' '))\n",
    "    number = data['CORPORATE_IDENTIFICATION_NUMBER'][i]\n",
    "    number='U'+number[1:]\n",
    "    r = requests.get(basic_url+comp_name+'/'+number)\n",
    "    html_data = pd.read_html(r.content)\n",
    "    if(r.ok):\n",
    "        count+=1\n",
    "\n",
    "print(count)"
   ]
  },
  {
   "cell_type": "code",
   "execution_count": null,
   "metadata": {},
   "outputs": [],
   "source": [
    "def display_all(data):\n",
    "    for i in range(len(data)):\n",
    "        print(i)\n",
    "        display(data[i])"
   ]
  },
  {
   "cell_type": "code",
   "execution_count": null,
   "metadata": {},
   "outputs": [],
   "source": [
    "# tables = ['Company Details','Previous Names','Previous CINS','Share Capital & Number of Employees',\n",
    "# 'Listing and Annual Compliance Details','']\n",
    "def get_basic_data(data,d_company):\n",
    "    temp = np.array(data)\n",
    "    for i in range(len(temp)):\n",
    "        d_company[temp[i][0]]=temp[i][1]\n",
    "\n",
    "def previous_cin(data,d_company):\n",
    "    d_company['Previous CIN'] = (np.array(data)).tolist()\n",
    "\n",
    "def previous_names(data,d_company):\n",
    "    d_company['Previous Names'] = (np.array(data)).tolist()\n",
    "\n"
   ]
  },
  {
   "cell_type": "code",
   "execution_count": null,
   "metadata": {},
   "outputs": [],
   "source": [
    "def fetch_data(link):\n",
    "    r = requests.get(link)\n",
    "    temp_data = pd.read_html(r.content,header=None)\n",
    "    d_company = {}\n",
    "    #NOTE Company Details\n",
    "    get_basic_data(temp_data[0],d_company)\n",
    "\n",
    "    #NOTE Share Capital & Number of Employees some data Available After Login\n",
    "    get_basic_data(temp_data[3],d_company)\n",
    "\n",
    "    #NOTE listing status\n",
    "    get_basic_data(temp_data[4],d_company)\n",
    "\n",
    "    #NOTE Balance Sheet\n",
    "    get_basic_data(temp_data[5],d_company)\n",
    "\n",
    "    #NOTE Profit & Loss\n",
    "    get_basic_data(temp_data[6],d_company)\n",
    "\n",
    "    #NOTE Previous Company Names available After login\n",
    "    previous_cin(temp_data[1],d_company)\n",
    "\n",
    "    #NOTE Previous Company CINs available After login\n",
    "    previous_names(temp_data[1],d_company)\n",
    "\n",
    "    # print(json.dumps(d_company,indent=5))\n",
    "    # display_all(temp_data)\n",
    "    return d_company"
   ]
  },
  {
   "cell_type": "code",
   "execution_count": null,
   "metadata": {},
   "outputs": [],
   "source": [
    "json_file = fetch_data(\"https://www.zaubacorp.com/company/RUHIKA-INFRAVENTURES-LLP/AAR-2517\")\n",
    "print(len(json_file))\n",
    "print(json.dumps(json_file,indent=5))"
   ]
  },
  {
   "cell_type": "code",
   "execution_count": null,
   "metadata": {},
   "outputs": [],
   "source": [
    "with open('../Data-Collector/data/zaubacorp.com/links.json') as jsonfp:\n",
    "    company_links = json.load(jsonfp)\n",
    "    \n",
    "print(\"Length of Data :\",len(company_links))\n",
    "count = 0\n",
    "company_data = {}\n",
    "with tqdm_notebook(total=len(company_links)) as pbar:\n",
    "    for i in company_links:\n",
    "        json_data = fetch_data(company_links[i]['link'])\n",
    "        company_data[i] = json_data\n",
    "        pbar.update()"
   ]
  },
  {
   "cell_type": "code",
   "execution_count": null,
   "metadata": {},
   "outputs": [],
   "source": []
  }
 ],
 "metadata": {
  "interpreter": {
   "hash": "e7370f93d1d0cde622a1f8e1c04877d8463912d04d973331ad4851f04de6915a"
  },
  "kernelspec": {
   "display_name": "Python 3.9.7 64-bit",
   "name": "python3"
  },
  "language_info": {
   "codemirror_mode": {
    "name": "ipython",
    "version": 3
   },
   "file_extension": ".py",
   "mimetype": "text/x-python",
   "name": "python",
   "nbconvert_exporter": "python",
   "pygments_lexer": "ipython3",
   "version": "3.9.7"
  },
  "orig_nbformat": 4
 },
 "nbformat": 4,
 "nbformat_minor": 2
}
